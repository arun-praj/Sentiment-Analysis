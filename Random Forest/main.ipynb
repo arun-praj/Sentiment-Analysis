{
 "cells": [
  {
   "cell_type": "code",
   "execution_count": 4,
   "source": [
    "import pandas as pd\r\n",
    "import pickle\r\n",
    "import matplotlib.pyplot as plt\r\n",
    "from sklearn.model_selection import train_test_split\r\n",
    "from sklearn.feature_extraction.text import TfidfVectorizer\r\n",
    "from sklearn.metrics import precision_score, recall_score,accuracy_score,f1_score,roc_curve,auc\r\n",
    "from sklearn.ensemble import RandomForestClassifier"
   ],
   "outputs": [],
   "metadata": {}
  },
  {
   "cell_type": "markdown",
   "source": [
    "# Load Dataset"
   ],
   "metadata": {}
  },
  {
   "cell_type": "code",
   "execution_count": 5,
   "source": [
    "training_set = pd.read_csv(\"../dataset/cleanedLabeledTrainData.csv\")\r\n",
    "Y=training_set['sentiment'].values\r\n",
    "X=training_set['review'].values\r\n",
    "\r\n",
    "x_train,x_test,y_train,y_test=train_test_split(X,Y,test_size=0.20,random_state=42,stratify=Y)\r\n",
    "print (\"No. of Training Examples: \",x_train.shape)\r\n",
    "print (\"No. of Testing Examples: \",x_test.shape)"
   ],
   "outputs": [
    {
     "output_type": "stream",
     "name": "stdout",
     "text": [
      "No. of Training Examples:  (20000,)\n",
      "No. of Testing Examples:  (5000,)\n"
     ]
    }
   ],
   "metadata": {}
  },
  {
   "cell_type": "code",
   "execution_count": 6,
   "source": [
    "# tf=TfidfVectorizer(max_features=2500,min_df=10,max_df=0.95)\r\n",
    "tf=TfidfVectorizer(min_df=10,max_df=0.95,use_idf=True)\r\n",
    "\r\n",
    "tf.fit_transform(x_train)\r\n",
    "X_train=tf.transform(x_train) # for train data we can use fit_transfrom also.\r\n",
    "X_test=tf.transform(x_test)\r\n",
    "pickle.dump(tf, open('vectorizer.sav', 'wb'))"
   ],
   "outputs": [],
   "metadata": {}
  },
  {
   "cell_type": "code",
   "execution_count": 7,
   "source": [
    "# Evaluating models peformance based on precision, recall and accuracy\r\n",
    "def do_evaluation (predicted, actual, verbose=True):\r\n",
    "    precision = precision_score(actual,predicted)\r\n",
    "    recall = recall_score(actual,predicted)\r\n",
    "    accuracy = accuracy_score(actual,predicted)\r\n",
    "    f1score = f1_score(predicted,actual)\r\n",
    "\r\n",
    "    if verbose:\r\n",
    "        print('\"Evaluation\"','| Precision ==',round(precision*100,2),'| Recall ==',round(recall*100,2),'| Accuracy ==',round(accuracy*100,2),'| F1 score ==',round(f1score*100,2))"
   ],
   "outputs": [],
   "metadata": {}
  },
  {
   "cell_type": "markdown",
   "source": [
    "# Training phase.."
   ],
   "metadata": {}
  },
  {
   "cell_type": "code",
   "execution_count": 8,
   "source": [
    "# Random Foreset Classifier\r\n",
    "rnd_f = RandomForestClassifier(n_estimators=200)\r\n",
    "rnd_f.fit(X_train,y_train)\r\n",
    "pickle.dump(rnd_f, open('rnd_f.sav', 'wb'))\r\n",
    "# Testing phase\r\n",
    "rnd_f_pred=rnd_f.predict(X_test)\r\n",
    "print(\"Accuracy: \",round(accuracy_score(y_test,rnd_f_pred),3))\r\n",
    "print ('{:.1%} of prediction are positive'.format(float(sum(rnd_f_pred))/len(y_test)))\r\n",
    "print ('{:.1%} are actually positive'.format(float(sum(y_test))/len(y_test)))\r\n",
    "do_evaluation (rnd_f_pred,y_test,verbose=True)"
   ],
   "outputs": [
    {
     "output_type": "stream",
     "name": "stdout",
     "text": [
      "Accuracy:  0.851\n",
      "49.2% of prediction are positive\n",
      "50.0% are actually positive\n",
      "\"Evaluation\" | Precision == 85.62 | Recall == 84.32 | Accuracy == 85.08 | F1 score == 84.97\n"
     ]
    }
   ],
   "metadata": {}
  },
  {
   "cell_type": "markdown",
   "source": [
    "# E valuate classifier performance(roc and auc curve)"
   ],
   "metadata": {}
  },
  {
   "cell_type": "code",
   "execution_count": 9,
   "source": [
    "def display_curve(nb_pred,name):\r\n",
    "    #Calculating False Positive Rate ,True Positive Rate and threshold\r\n",
    "    fpr_nb, tpr_nb, _ = roc_curve(y_test, nb_pred)\r\n",
    "    #AUC is the percentage of the ROC plot that is underneath the curve:\r\n",
    "    roc_auc_nb = auc(fpr_nb, tpr_nb)\r\n",
    "    plt.title(f'Operating Characteristic for {name} Classifier')\r\n",
    "    plt.plot(fpr_nb, tpr_nb, 'b', label = 'AUC = %0.2f' % roc_auc_nb)\r\n",
    "    plt.legend(loc = 'lower right')\r\n",
    "    plt.plot([0, 1], [0, 1],'r--')\r\n",
    "    plt.xlim([0, 1])\r\n",
    "    plt.ylim([0, 1])\r\n",
    "    plt.ylabel('True Positive Rate')\r\n",
    "    plt.xlabel('False Positive Rate')\r\n",
    "    plt.show()"
   ],
   "outputs": [],
   "metadata": {}
  },
  {
   "cell_type": "code",
   "execution_count": 10,
   "source": [
    "# Gaussian Naive Bayes Classifier\r\n",
    "display_curve(rnd_f_pred,'Random Forest')"
   ],
   "outputs": [
    {
     "output_type": "display_data",
     "data": {
      "image/png": "[encoded data removed]",
      "text/plain": [
       "<Figure size 432x288 with 1 Axes>"
      ]
     },
     "metadata": {
      "needs_background": "light"
     }
    }
   ],
   "metadata": {}
  },
  {
   "cell_type": "markdown",
   "source": [
    "# Testing"
   ],
   "metadata": {}
  },
  {
   "cell_type": "code",
   "execution_count": 11,
   "source": [
    "# Load model\r\n",
    "rnd_f = pickle.load(open('rnd_f.sav','rb'))\r\n",
    "tf = pickle.load(open('vectorizer.sav','rb'))\r\n",
    "\r\n",
    "# Testing\r\n",
    "test_array = ['love','good','fine','bad','worst']\r\n",
    "test_func = lambda x: 'pos' if x==1 else 'neg'\r\n",
    "random_f = rnd_f.predict(tf.transform(test_array).toarray())\r\n",
    "\r\n",
    "for sentence,l in zip(test_array,random_f):\r\n",
    "    print(sentence,': Random Forest=',test_func(l))\r\n"
   ],
   "outputs": [
    {
     "output_type": "stream",
     "name": "stdout",
     "text": [
      "love : Random Forest= pos\n",
      "good : Random Forest= pos\n",
      "fine : Random Forest= pos\n",
      "bad : Random Forest= neg\n",
      "worst : Random Forest= neg\n"
     ]
    }
   ],
   "metadata": {}
  }
 ],
 "metadata": {
  "orig_nbformat": 4,
  "language_info": {
   "name": "python",
   "version": "3.8.5",
   "mimetype": "text/x-python",
   "codemirror_mode": {
    "name": "ipython",
    "version": 3
   },
   "pygments_lexer": "ipython3",
   "nbconvert_exporter": "python",
   "file_extension": ".py"
  },
  "kernelspec": {
   "name": "python3",
   "display_name": "Python 3.8.5 64-bit ('rabin': virtualenv)"
  },
  "interpreter": {
   "hash": "a456efd1d2e2bfa10bfdad488db5626e5f8bd233a0f11ae70ce0e7717a6a7d8d"
  }
 },
 "nbformat": 4,
 "nbformat_minor": 2
}