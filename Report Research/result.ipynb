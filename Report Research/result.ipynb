{
 "cells": [
  {
   "cell_type": "markdown",
   "source": [
    "# Logestic Regression\r\n",
    "    - LogisticRegression:  0.8934\r\n",
    "    - Note that 51.7% of our classifier guesses were positive\r\n",
    "    - While 50.0% of the reviews were actually positive\r\n",
    "    - \"Positive Evaluation\" | Precision == 88.05 | Recall == 91.04 | Accuracy == 89.34 | F1 score == 89.52\r\n",
    "    - \"Negative Evaluation\" | Precision == 90.72 | Recall == 87.64 | Accuracy == 89.34 | F1 score == 89.52"
   ],
   "metadata": {}
  },
  {
   "cell_type": "markdown",
   "source": [
    "# SVC\r\n",
    "    - svc Accuracy:  0.88\r\n",
    "    - 51.4% of prediction are positive\r\n",
    "    - 50.0% are actually positive\r\n",
    "    - \"Positive Evaluation\" | Precision == 86.94 | Recall == 89.44 | Accuracy == 88.0 | F1 score == 88.17\r\n",
    "    - \"Negative Evaluation\" | Precision == 89.13 | Recall == 86.56 | Accuracy == 88.0 | F1 score == 88.17"
   ],
   "metadata": {}
  },
  {
   "cell_type": "markdown",
   "source": [
    "# Complement NB\r\n",
    "    - Complement Accuracy:  0.864\r\n",
    "    - 50.0% of prediction are positive\r\n",
    "    - 50.0% are actually positive\r\n",
    "    - \"Positive Evaluation\" | Precision == 86.4 | Recall == 86.4 | Accuracy == 86.4 | F1 score == 86.4\r\n",
    "    - \"Negative Evaluation\" | Precision == 86.4 | Recall == 86.4 | Accuracy == 86.4 | F1 score == 86.4"
   ],
   "metadata": {}
  },
  {
   "cell_type": "markdown",
   "source": [
    "# Multinomial NB\r\n",
    "    - Multinomial Accuracy:  0.864\r\n",
    "    - 50.0% of prediction are positive\r\n",
    "    - 50.0% are actually positive\r\n",
    "    - \"Positive Evaluation\" | Precision == 86.4 | Recall == 86.4 | Accuracy == 86.4 | F1 score == 86.4\r\n",
    "    - \"Negative Evaluation\" | Precision == 86.4 | Recall == 86.4 | Accuracy == 86.4 | F1 score == 86.4"
   ],
   "metadata": {}
  },
  {
   "cell_type": "markdown",
   "source": [
    "# Random Forest\r\n",
    "    - Accuracy:  0.85\r\n",
    "     -49.8% of prediction are positive\r\n",
    "    - 50.0% are actually positive\r\n",
    "    - \"Positive Evaluation\" | Precision == 85.14 | Recall == 84.8 | Accuracy == 85.0 | F1 score == 84.97\r\n",
    "    - \"Negative Evaluation\" | Precision == 84.86 | Recall == 85.2 | Accuracy == 85.0 | F1 score == 84.97"
   ],
   "metadata": {}
  },
  {
   "cell_type": "markdown",
   "source": [
    "# Bernoulli NB\r\n",
    "    - Bernoulli Accuracy:  0.843\r\n",
    "    - 47.3% of prediction are positive\r\n",
    "    - 50.0% are actually positive\r\n",
    "    - \"Positive Evaluation\" | Precision == 86.22 | Recall == 81.6 | Accuracy == 84.28 | F1 score == 83.85\r\n",
    "    - \"Negative Evaluation\" | Precision == 82.54 | Recall == 86.96 | Accuracy == 84.28 | F1 score == 83.85"
   ],
   "metadata": {}
  },
  {
   "cell_type": "markdown",
   "source": [
    "# KNN\r\n",
    "    - Accuracy:  0.777\r\n",
    "    - 56.5% of prediction are positive\r\n",
    "    - 50.0% are actually positive\r\n",
    "    - \"Positive Evaluation\" | Precision == 74.49 | Recall == 84.2 | Accuracy == 77.68 | F1 score == 79.05\r\n",
    "    - \"Negative Evaluation\" | Precision == 81.83 | Recall == 71.16 | Accuracy == 77.68 | F1 score == 79.05"
   ],
   "metadata": {}
  },
  {
   "cell_type": "markdown",
   "source": [
    "# Gaussain NB\r\n",
    "    - Gaussain Accuracy:  0.756\r\n",
    "    - 47.0% of prediction are positive\r\n",
    "    - 50.0% are actually positive\r\n",
    "    - \"Positive Evaluation\" | Precision == 77.28 | Recall == 72.64 | Accuracy == 75.64 | F1 score == 74.89\r\n",
    "    - \"Negative Evaluation\" | Precision == 74.19 | Recall == 78.64 | Accuracy == 75.64 | F1 score == 74.89"
   ],
   "metadata": {}
  },
  {
   "cell_type": "markdown",
   "source": [
    "# Decision Tree\r\n",
    "    - Accuracy:  0.719\r\n",
    "    - 49.5% of prediction are positive\r\n",
    "    - 50.0% are actually positive\r\n",
    "    - \"Positive Evaluation\" | Precision == 72.09 | Recall == 71.4 | Accuracy == 71.88 | F1 score == 71.74\r\n",
    "    - \"Negative Evaluation\" | Precision == 71.67 | Recall == 72.36 | Accuracy == 71.88 | F1 score == 71.74"
   ],
   "metadata": {}
  }
 ],
 "metadata": {
  "orig_nbformat": 4,
  "language_info": {
   "name": "python"
  }
 },
 "nbformat": 4,
 "nbformat_minor": 2
}