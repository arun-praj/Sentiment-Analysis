{
    "cells": [
        {
            "cell_type": "code",
            "execution_count": 5,
            "source": [
                "import pandas as pd\n",
                "\n",
                "trained_set = pd.read_csv(\"labeledTrainData.tsv\",sep=\"\\t\")\n",
                "trained_set"
            ],
            "outputs": [
                {
                    "output_type": "execute_result",
                    "data": {
                        "text/plain": [
                            "            id  sentiment                                             review\n",
                            "0       5814_8          1  With all this stuff going down at the moment w...\n",
                            "1       2381_9          1  \\The Classic War of the Worlds\\\" by Timothy Hi...\n",
                            "2       7759_3          0  The film starts with a manager (Nicholas Bell)...\n",
                            "3       3630_4          0  It must be assumed that those who praised this...\n",
                            "4       9495_8          1  Superbly trashy and wondrously unpretentious 8...\n",
                            "...        ...        ...                                                ...\n",
                            "24995   3453_3          0  It seems like more consideration has gone into...\n",
                            "24996   5064_1          0  I don't believe they made this film. Completel...\n",
                            "24997  10905_3          0  Guy is a loser. Can't get girls, needs to buil...\n",
                            "24998  10194_3          0  This 30 minute documentary Buñuel made in the ...\n",
                            "24999   8478_8          1  I saw this movie as a child and it broke my he...\n",
                            "\n",
                            "[25000 rows x 3 columns]"
                        ],
                        "text/html": [
                            "<div>\n",
                            "<style scoped>\n",
                            "    .dataframe tbody tr th:only-of-type {\n",
                            "        vertical-align: middle;\n",
                            "    }\n",
                            "\n",
                            "    .dataframe tbody tr th {\n",
                            "        vertical-align: top;\n",
                            "    }\n",
                            "\n",
                            "    .dataframe thead th {\n",
                            "        text-align: right;\n",
                            "    }\n",
                            "</style>\n",
                            "<table border=\"1\" class=\"dataframe\">\n",
                            "  <thead>\n",
                            "    <tr style=\"text-align: right;\">\n",
                            "      <th></th>\n",
                            "      <th>id</th>\n",
                            "      <th>sentiment</th>\n",
                            "      <th>review</th>\n",
                            "    </tr>\n",
                            "  </thead>\n",
                            "  <tbody>\n",
                            "    <tr>\n",
                            "      <th>0</th>\n",
                            "      <td>5814_8</td>\n",
                            "      <td>1</td>\n",
                            "      <td>With all this stuff going down at the moment w...</td>\n",
                            "    </tr>\n",
                            "    <tr>\n",
                            "      <th>1</th>\n",
                            "      <td>2381_9</td>\n",
                            "      <td>1</td>\n",
                            "      <td>\\The Classic War of the Worlds\\\" by Timothy Hi...</td>\n",
                            "    </tr>\n",
                            "    <tr>\n",
                            "      <th>2</th>\n",
                            "      <td>7759_3</td>\n",
                            "      <td>0</td>\n",
                            "      <td>The film starts with a manager (Nicholas Bell)...</td>\n",
                            "    </tr>\n",
                            "    <tr>\n",
                            "      <th>3</th>\n",
                            "      <td>3630_4</td>\n",
                            "      <td>0</td>\n",
                            "      <td>It must be assumed that those who praised this...</td>\n",
                            "    </tr>\n",
                            "    <tr>\n",
                            "      <th>4</th>\n",
                            "      <td>9495_8</td>\n",
                            "      <td>1</td>\n",
                            "      <td>Superbly trashy and wondrously unpretentious 8...</td>\n",
                            "    </tr>\n",
                            "    <tr>\n",
                            "      <th>...</th>\n",
                            "      <td>...</td>\n",
                            "      <td>...</td>\n",
                            "      <td>...</td>\n",
                            "    </tr>\n",
                            "    <tr>\n",
                            "      <th>24995</th>\n",
                            "      <td>3453_3</td>\n",
                            "      <td>0</td>\n",
                            "      <td>It seems like more consideration has gone into...</td>\n",
                            "    </tr>\n",
                            "    <tr>\n",
                            "      <th>24996</th>\n",
                            "      <td>5064_1</td>\n",
                            "      <td>0</td>\n",
                            "      <td>I don't believe they made this film. Completel...</td>\n",
                            "    </tr>\n",
                            "    <tr>\n",
                            "      <th>24997</th>\n",
                            "      <td>10905_3</td>\n",
                            "      <td>0</td>\n",
                            "      <td>Guy is a loser. Can't get girls, needs to buil...</td>\n",
                            "    </tr>\n",
                            "    <tr>\n",
                            "      <th>24998</th>\n",
                            "      <td>10194_3</td>\n",
                            "      <td>0</td>\n",
                            "      <td>This 30 minute documentary Buñuel made in the ...</td>\n",
                            "    </tr>\n",
                            "    <tr>\n",
                            "      <th>24999</th>\n",
                            "      <td>8478_8</td>\n",
                            "      <td>1</td>\n",
                            "      <td>I saw this movie as a child and it broke my he...</td>\n",
                            "    </tr>\n",
                            "  </tbody>\n",
                            "</table>\n",
                            "<p>25000 rows × 3 columns</p>\n",
                            "</div>"
                        ]
                    },
                    "metadata": {},
                    "execution_count": 5
                }
            ],
            "metadata": {}
        },
        {
            "cell_type": "code",
            "execution_count": 7,
            "source": [
                "y_train = trained_set['sentiment'].values"
            ],
            "outputs": [
                {
                    "output_type": "execute_result",
                    "data": {
                        "text/plain": [
                            "array([1, 1, 0, ..., 0, 0, 1])"
                        ]
                    },
                    "metadata": {},
                    "execution_count": 7
                }
            ],
            "metadata": {}
        },
        {
            "cell_type": "code",
            "execution_count": 14,
            "source": [
                "x_train = trained_set['review'].values"
            ],
            "outputs": [],
            "metadata": {}
        },
        {
            "cell_type": "markdown",
            "source": [
                "We must generate train data and test data\n",
                "ie, divide given dataset in different ratio such as 8:1 or 7:1\n",
                "80% of dataset is used for training and 20% is used for testing the accuracy"
            ],
            "metadata": {}
        },
        {
            "cell_type": "code",
            "execution_count": null,
            "source": [],
            "outputs": [],
            "metadata": {}
        },
        {
            "cell_type": "code",
            "execution_count": null,
            "source": [],
            "outputs": [],
            "metadata": {}
        }
    ],
    "metadata": {
        "orig_nbformat": 4,
        "language_info": {
            "name": "python"
        }
    },
    "nbformat": 4,
    "nbformat_minor": 2
}