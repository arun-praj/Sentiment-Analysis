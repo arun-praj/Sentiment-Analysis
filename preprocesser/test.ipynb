{
 "cells": [
  {
   "cell_type": "markdown",
   "metadata": {},
   "source": [
    "# Data Cleaning:\n",
    "    - html.parser remover\n",
    "    - stemmer\n",
    "    - stopword remove\n"
   ]
  },
  {
   "cell_type": "code",
   "execution_count": 1,
   "metadata": {},
   "outputs": [],
   "source": [
    "from cleaner import cleaner\n",
    "from stopword import removing_stopwords\n",
    "from porter_stemmer_lemmatization import porter_stemmer\n",
    "import pandas as pd"
   ]
  },
  {
   "cell_type": "code",
   "execution_count": 2,
   "metadata": {},
   "outputs": [
    {
     "name": "stdout",
     "output_type": "stream",
     "text": [
      "<h1>Hello world</h1> ,my, name is hero and he is god, they said to <br />help<br /> me. movie.<br /><br />Cut <br /><br /><br /><br />\n",
      "hello world my name is hero and he is god they said to help me movie cut \n",
      "hello world name hero god said help movie cut \n",
      "hello world name hero god said help movi cut \n"
     ]
    }
   ],
   "source": [
    "text1 = '<h1>Hello world</h1> ,my, name is hero and he is god, they said to <br />help<br /> me. movie.<br /><br />Cut <br /><br /><br /><br />'\n",
    "print(text1)\n",
    "text = cleaner(text1)\n",
    "print(text)\n",
    "text = removing_stopwords(text)\n",
    "print(text)\n",
    "text = porter_stemmer(text)\n",
    "print(text)"
   ]
  },
  {
   "cell_type": "code",
   "execution_count": 7,
   "metadata": {},
   "outputs": [],
   "source": [
    "# data_train = pd.read_csv('../dataset/labeledTrainData.tsv',sep='\\t')\n",
    "data_train = pd.read_csv('../dataset/movie_train.csv')\n",
    "test = data_train.sample(22).head(1)"
   ]
  },
  {
   "cell_type": "code",
   "execution_count": 8,
   "metadata": {},
   "outputs": [],
   "source": [
    "def clean_data(data):\n",
    "    new_data = cleaner(data)\n",
    "    new_data = removing_stopwords(new_data)\n",
    "    new_data = porter_stemmer(new_data)\n",
    "    return new_data"
   ]
  },
  {
   "cell_type": "code",
   "execution_count": 9,
   "metadata": {},
   "outputs": [
    {
     "name": "stdout",
     "output_type": "stream",
     "text": [
      "It was so terrible. It wasn't fun to watch at all. Even the scene where the girl is using a vibrator, even that's not fun to watch in this movie. I say again, the scene where a girl is masturbating with a vibrator is not even fun to watch. Or maybe if that was the only part of the movie that you watched, just girl on couch using a vibrator. Maybe they should have just released that one scene in theaters, maybe then the movie would be enjoyable on a certain level. My advice, fast forward to that point, watch it, rewind the movie, watch it again, rewind, repeat. Maybe you could enjoy yourself for 2 hours that way. This movie ranks alongside I spit on your grave and Doom generation in the category of worst movies that I have ever seen.\n",
      "-----------------\n",
      "terribl fun watch even scene girl use vibrat even fun watch movi say scene girl masturb vibrat even fun watch mayb part movi watch girl couch use vibrat mayb releas one scene theater mayb movi would enjoy certain level advic fast forward point watch rewind movi watch rewind repeat mayb could enjoy 2 hour way movi rank alongsid spit grave doom gener categori worst movi ever seen \n"
     ]
    }
   ],
   "source": [
    "print(test.review.to_list()[0])\n",
    "test['review'] = test['review'].apply(clean_data)\n",
    "print('-----------------')\n",
    "print(test.review.to_list()[0])"
   ]
  },
  {
   "cell_type": "markdown",
   "metadata": {},
   "source": [
    "# Cleaning data and store"
   ]
  },
  {
   "cell_type": "code",
   "execution_count": 10,
   "metadata": {},
   "outputs": [],
   "source": [
    "data_train['review'] = data_train['review'].apply(clean_data)\n",
    "data_train.to_csv('../dataset/cleaned_movie_train.csv',index=False)"
   ]
  },
  {
   "cell_type": "markdown",
   "metadata": {},
   "source": [
    "# Easy Method"
   ]
  },
  {
   "cell_type": "code",
   "execution_count": 8,
   "metadata": {},
   "outputs": [
    {
     "name": "stdout",
     "output_type": "stream",
     "text": [
      "h1Hello worldh1 my name is hero and he is god they said to br helpbr  me moviebr br Cut br br br br \n"
     ]
    },
    {
     "data": {
      "text/plain": [
       "'h1Hello worldh1 name hero god said br helpbr  moviebr br Cut br br br br '"
      ]
     },
     "execution_count": 8,
     "metadata": {},
     "output_type": "execute_result"
    }
   ],
   "source": [
    "import string\n",
    "\n",
    "def text_process(text):\n",
    "    #this func remove all punctuations and stopwords and finnaly returned cleaned text as list of words\n",
    "    nopunc = [char for char in text if char not in string.punctuation]\n",
    "    nopunc = ''.join(nopunc)\n",
    "    print(nopunc)\n",
    "    nopunc = removing_stopwords(nopunc)\n",
    "    return nopunc\n",
    "    \n",
    "\n",
    "text_process(text1)"
   ]
  }
 ],
 "metadata": {
  "interpreter": {
   "hash": "e6c4b99f9ef2d88a1e49710a13f69a86a0e6138b0da5fccd7e8c8bc5c4d71d6e"
  },
  "kernelspec": {
   "display_name": "Python 3.9.1 64-bit",
   "name": "python3"
  },
  "language_info": {
   "codemirror_mode": {
    "name": "ipython",
    "version": 3
   },
   "file_extension": ".py",
   "mimetype": "text/x-python",
   "name": "python",
   "nbconvert_exporter": "python",
   "pygments_lexer": "ipython3",
   "version": "3.9.1"
  },
  "orig_nbformat": 4
 },
 "nbformat": 4,
 "nbformat_minor": 2
}
