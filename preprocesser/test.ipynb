{
 "cells": [
  {
   "cell_type": "markdown",
   "source": [
    "# Data Cleaning:\r\n",
    "    - html.parser remover\r\n",
    "    - stemmer\r\n",
    "    - stopword remove\r\n"
   ],
   "metadata": {}
  },
  {
   "cell_type": "code",
   "execution_count": 3,
   "source": [
    "from cleaner import cleaner\r\n",
    "from stopword import removing_stopwords\r\n",
    "from porter_stemmer_lemmatization import porter_stemmer\r\n",
    "import pandas as pd"
   ],
   "outputs": [],
   "metadata": {}
  },
  {
   "cell_type": "code",
   "execution_count": 6,
   "source": [
    "text1 = '<h1>Hello world</h1> ,my, name is hero and he is god, they said to <br />help<br /> me. movie.<br /><br />Cut <br /><br /><br /><br />'\r\n",
    "print(text1)\r\n",
    "text = cleaner(text1)\r\n",
    "print(text)\r\n",
    "text = removing_stopwords(text)\r\n",
    "print(text)\r\n",
    "text = porter_stemmer(text)\r\n",
    "print(text)"
   ],
   "outputs": [
    {
     "output_type": "stream",
     "name": "stdout",
     "text": [
      "<h1>Hello world</h1> ,my, name is hero and he is god, they said to <br />help<br /> me. movie.<br /><br />Cut <br /><br /><br /><br />\n",
      "hello world my name is hero and he is god they said to help me movie cut \n",
      "hello world name hero god said help movie cut \n",
      "hello world name hero god said help movi cut \n"
     ]
    }
   ],
   "metadata": {}
  },
  {
   "cell_type": "code",
   "execution_count": 7,
   "source": [
    "data_train = pd.read_csv('../dataset/labeledTrainData.tsv',sep='\\t')\r\n",
    "test = data_train.sample(22).head(1)"
   ],
   "outputs": [],
   "metadata": {}
  },
  {
   "cell_type": "code",
   "execution_count": 11,
   "source": [
    "def clean_data(data):\r\n",
    "    new_data = cleaner(data)\r\n",
    "    new_data = removing_stopwords(new_data)\r\n",
    "    new_data = porter_stemmer(new_data)\r\n",
    "    return new_data"
   ],
   "outputs": [],
   "metadata": {}
  },
  {
   "cell_type": "code",
   "execution_count": 12,
   "source": [
    "print(test.review.to_list()[0])\r\n",
    "test['review'] = test['review'].apply(clean_data)\r\n",
    "print('-----------------')\r\n",
    "print(test.review.to_list()[0])"
   ],
   "outputs": [
    {
     "output_type": "stream",
     "name": "stdout",
     "text": [
      "rapid economic development 1990 china resurgence traditional chinese culture partially due rise nationalism accompanied increase wealth importantly due sense spiritual belonging collapse old socialist ideology post cultural revolutionary era however resurgence chinese traditional culture namely confucianism without disasters chinese adopted entire tradition without eliminating bad part discrimination girls demonstrated film excellent example moreover part discarded inherited good part supposed inherited traditional opera technique changing face ignored resurgence facing extinction director used film criticize problem embracing tradition contemporary china deeper meaning behind movie \n",
      "-----------------\n",
      "rapid econom develop 1990 china resurg tradit chines cultur partial due rise nation accompani increas wealth importantli due sens spiritu belong collaps old socialist ideolog post cultur revolutionari era howev resurg chines tradit cultur name confucian without disast chines adopt entir tradit without elimin bad part discrimin girl demonstr film excel exampl moreov part discard inherit good part suppos inherit tradit opera techniqu chang face ignor resurg face extinct director use film critic problem embrac tradit contemporari china deeper mean behind movi \n"
     ]
    }
   ],
   "metadata": {}
  },
  {
   "cell_type": "markdown",
   "source": [
    "# Cleaning data and store"
   ],
   "metadata": {}
  },
  {
   "cell_type": "code",
   "execution_count": 13,
   "source": [
    "data_train['review'] = data_train['review'].apply(clean_data)\r\n",
    "data_train.to_csv('../dataset/cleaned_Porter_stemmer.csv',index=False)"
   ],
   "outputs": [],
   "metadata": {}
  },
  {
   "cell_type": "markdown",
   "source": [
    "# Easy Method"
   ],
   "metadata": {}
  },
  {
   "cell_type": "code",
   "execution_count": 8,
   "source": [
    "import string\r\n",
    "\r\n",
    "def text_process(text):\r\n",
    "    #this func remove all punctuations and stopwords and finnaly returned cleaned text as list of words\r\n",
    "    nopunc = [char for char in text if char not in string.punctuation]\r\n",
    "    nopunc = ''.join(nopunc)\r\n",
    "    print(nopunc)\r\n",
    "    nopunc = removing_stopwords(nopunc)\r\n",
    "    return nopunc\r\n",
    "    \r\n",
    "\r\n",
    "text_process(text1)"
   ],
   "outputs": [
    {
     "output_type": "stream",
     "name": "stdout",
     "text": [
      "h1Hello worldh1 my name is hero and he is god they said to br helpbr  me moviebr br Cut br br br br \n"
     ]
    },
    {
     "output_type": "execute_result",
     "data": {
      "text/plain": [
       "'h1Hello worldh1 name hero god said br helpbr  moviebr br Cut br br br br '"
      ]
     },
     "metadata": {},
     "execution_count": 8
    }
   ],
   "metadata": {}
  }
 ],
 "metadata": {
  "orig_nbformat": 4,
  "language_info": {
   "name": "python",
   "version": "3.9.1",
   "mimetype": "text/x-python",
   "codemirror_mode": {
    "name": "ipython",
    "version": 3
   },
   "pygments_lexer": "ipython3",
   "nbconvert_exporter": "python",
   "file_extension": ".py"
  },
  "kernelspec": {
   "name": "python3",
   "display_name": "Python 3.9.1 64-bit"
  },
  "interpreter": {
   "hash": "e6c4b99f9ef2d88a1e49710a13f69a86a0e6138b0da5fccd7e8c8bc5c4d71d6e"
  }
 },
 "nbformat": 4,
 "nbformat_minor": 2
}