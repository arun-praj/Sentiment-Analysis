{
 "cells": [
  {
   "cell_type": "markdown",
   "source": [
    "# Data Cleaning:\r\n",
    "    - html.parser remover\r\n",
    "    - stemmer\r\n",
    "    - stopword remove\r\n"
   ],
   "metadata": {}
  },
  {
   "cell_type": "code",
   "execution_count": 1,
   "source": [
    "from cleaner import cleaner\r\n",
    "from stopword import removing_stopwords\r\n",
    "import pandas as pd"
   ],
   "outputs": [],
   "metadata": {}
  },
  {
   "cell_type": "code",
   "execution_count": 7,
   "source": [
    "text1 = '<h1>Hello world</h1> ,my, name is hero and he is god, they said to <br />help<br /> me. movie.<br /><br />Cut <br /><br /><br /><br />'\r\n",
    "print(text1)\r\n",
    "text = cleaner(text1)\r\n",
    "print(text)\r\n",
    "text = removing_stopwords(text)\r\n",
    "print(text)"
   ],
   "outputs": [
    {
     "output_type": "stream",
     "name": "stdout",
     "text": [
      "<h1>Hello world</h1> ,my, name is hero and he is god, they said to <br />help<br /> me. movie.<br /><br />Cut <br /><br /><br /><br />\n",
      "hello world my name is hero and he is god they said to help me movie cut \n",
      "hello world name hero god said help movie cut \n"
     ]
    }
   ],
   "metadata": {}
  },
  {
   "cell_type": "code",
   "execution_count": 3,
   "source": [
    "data_train = pd.read_csv('../dataset/labeledTrainData.tsv',sep='\\t')\r\n",
    "test = data_train.sample(22).head(1)"
   ],
   "outputs": [],
   "metadata": {}
  },
  {
   "cell_type": "code",
   "execution_count": 4,
   "source": [
    "def clean_data(data):\r\n",
    "    new_data = cleaner(data)\r\n",
    "    new_data = removing_stopwords(new_data)\r\n",
    "    return new_data"
   ],
   "outputs": [],
   "metadata": {}
  },
  {
   "cell_type": "code",
   "execution_count": 5,
   "source": [
    "print(test.review.to_list()[0])\r\n",
    "test['review'] = test['review'].apply(clean_data)\r\n",
    "print('-----------------')\r\n",
    "print(test.review.to_list()[0])"
   ],
   "outputs": [
    {
     "output_type": "stream",
     "name": "stdout",
     "text": [
      "Now, many would think to stay away from this movie just because of the title. If you do not have the stomach for gory movies, then what are you doing reading this review? Anyhow, I borrowed the video from a friend of mine and fell in love with this movie immediately. This movie is chock full of wonderful gore, plus the usual other ingredients that make up a b-movie add up to one hell of a viewing experience! If you're a lover of good quality experiences, then by all means, watch this great flick!\n",
      "-----------------\n",
      "many would think stay away movie title stomach gory movies reading review anyhow borrowed video friend mine fell love movie immediately movie chock full wonderful gore plus usual ingredients make b movie add one hell viewing experience lover good quality experiences means watch great flick \n"
     ]
    }
   ],
   "metadata": {}
  },
  {
   "cell_type": "markdown",
   "source": [
    "# Cleaning data and store"
   ],
   "metadata": {}
  },
  {
   "cell_type": "code",
   "execution_count": 7,
   "source": [
    "# data_train['review'] = data_train['review'].apply(clean_data)\r\n",
    "# data_train.to_csv('../dataset/cleanedLabeledTrainData.csv',index=False)"
   ],
   "outputs": [],
   "metadata": {}
  },
  {
   "cell_type": "markdown",
   "source": [
    "# Easy Method"
   ],
   "metadata": {}
  },
  {
   "cell_type": "code",
   "execution_count": 8,
   "source": [
    "import string\r\n",
    "\r\n",
    "def text_process(text):\r\n",
    "    #this func remove all punctuations and stopwords and finnaly returned cleaned text as list of words\r\n",
    "    nopunc = [char for char in text if char not in string.punctuation]\r\n",
    "    nopunc = ''.join(nopunc)\r\n",
    "    print(nopunc)\r\n",
    "    nopunc = removing_stopwords(nopunc)\r\n",
    "    return nopunc\r\n",
    "    \r\n",
    "\r\n",
    "text_process(text1)"
   ],
   "outputs": [
    {
     "output_type": "stream",
     "name": "stdout",
     "text": [
      "h1Hello worldh1 my name is hero and he is god they said to br helpbr  me moviebr br Cut br br br br \n"
     ]
    },
    {
     "output_type": "execute_result",
     "data": {
      "text/plain": [
       "'h1Hello worldh1 name hero god said br helpbr  moviebr br Cut br br br br '"
      ]
     },
     "metadata": {},
     "execution_count": 8
    }
   ],
   "metadata": {}
  }
 ],
 "metadata": {
  "orig_nbformat": 4,
  "language_info": {
   "name": "python",
   "version": "3.8.5",
   "mimetype": "text/x-python",
   "codemirror_mode": {
    "name": "ipython",
    "version": 3
   },
   "pygments_lexer": "ipython3",
   "nbconvert_exporter": "python",
   "file_extension": ".py"
  },
  "kernelspec": {
   "name": "python3",
   "display_name": "Python 3.8.5 64-bit (conda)"
  },
  "interpreter": {
   "hash": "a456efd1d2e2bfa10bfdad488db5626e5f8bd233a0f11ae70ce0e7717a6a7d8d"
  }
 },
 "nbformat": 4,
 "nbformat_minor": 2
}