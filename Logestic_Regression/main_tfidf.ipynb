{
 "cells": [
  {
   "cell_type": "code",
   "execution_count": 2,
   "source": [
    "import pandas as pd\r\n",
    "import pickle\r\n",
    "import matplotlib.pyplot as plt\r\n",
    "from sklearn.model_selection import train_test_split\r\n",
    "from sklearn.feature_extraction.text import TfidfVectorizer\r\n",
    "from sklearn.metrics import precision_score, recall_score,accuracy_score,f1_score,roc_curve,auc\r\n",
    "from sklearn.linear_model import LogisticRegression"
   ],
   "outputs": [],
   "metadata": {
    "collapsed": false
   }
  },
  {
   "cell_type": "markdown",
   "source": [
    " # Load Dataset"
   ],
   "metadata": {}
  },
  {
   "cell_type": "code",
   "execution_count": 3,
   "source": [
    "training_set = pd.read_csv(\"../dataset/cleanedLabeledTrainData.csv\")\r\n",
    "\r\n",
    "Y=training_set['sentiment'].values\r\n",
    "X=training_set['review'].values\r\n",
    "\r\n",
    "x_train,x_test,y_train,y_test=train_test_split(X,Y,test_size=0.20,random_state=42,stratify=Y)\r\n",
    "print (\"No. of Training Examples: \",x_train.shape)\r\n",
    "print (\"No. of Testing Examples: \",x_test.shape)"
   ],
   "outputs": [
    {
     "output_type": "stream",
     "name": "stdout",
     "text": [
      "No. of Training Examples:  (20000,)\n",
      "No. of Testing Examples:  (5000,)\n"
     ]
    }
   ],
   "metadata": {}
  },
  {
   "cell_type": "code",
   "execution_count": 4,
   "source": [
    "tf=TfidfVectorizer(min_df=10,max_df=0.95,use_idf=True)\r\n",
    "\r\n",
    "tf.fit_transform(x_train)\r\n",
    "X_train=tf.transform(x_train) # for train data we can use fit_transfrom also.\r\n",
    "X_test=tf.transform(x_test)\r\n",
    "pickle.dump(tf, open('vectorizer.sav', 'wb'))"
   ],
   "outputs": [],
   "metadata": {}
  },
  {
   "cell_type": "code",
   "execution_count": 5,
   "source": [
    "# Evaluating models peformance based on precision, recall and accuracy\r\n",
    "def do_evaluation (predicted, actual, verbose=True):\r\n",
    "    precision = precision_score(actual,predicted)\r\n",
    "    recall = recall_score(actual,predicted)\r\n",
    "    accuracy = accuracy_score(actual,predicted)\r\n",
    "    f1score = f1_score(predicted,actual)\r\n",
    "\r\n",
    "    if verbose:\r\n",
    "        print('\"Evaluation\"','| Precision ==',round(precision*100,2),'| Recall ==',round(recall*100,2),'| Accuracy ==',round(accuracy*100,2),'| F1 score ==',round(f1score*100,2))"
   ],
   "outputs": [],
   "metadata": {}
  },
  {
   "cell_type": "code",
   "execution_count": 6,
   "source": [
    "#training our model using Logistic Regression Classifier\r\n",
    "logreg = LogisticRegression(solver = 'liblinear')\r\n",
    "logreg.fit(X_train,y_train)\r\n",
    "pickle.dump(logreg, open('logreg.sav', 'wb'))\r\n",
    "#testin and Evaluating Logistic Regression Model\r\n",
    "preds_logreg = logreg.predict(X_test)\r\n",
    "print('LogisticRegression: ',accuracy_score(y_test, preds_logreg))\r\n",
    "print ('Note that {:.1%} of our classifier guesses were positive'.format(float(sum(preds_logreg))/len(y_test)))\r\n",
    "print ('While {:.1%} of the reviews were actually positive'.format(float(sum(y_test))/len(y_test)))\r\n",
    "\r\n",
    "do_evaluation (preds_logreg,y_test, verbose=True)"
   ],
   "outputs": [
    {
     "output_type": "stream",
     "name": "stdout",
     "text": [
      "LogisticRegression:  0.8934\n",
      "Note that 51.7% of our classifier guesses were positive\n",
      "While 50.0% of the reviews were actually positive\n",
      "\"Evaluation\" | Precision == 88.05 | Recall == 91.04 | Accuracy == 89.34 | F1 score == 89.52\n"
     ]
    }
   ],
   "metadata": {}
  },
  {
   "cell_type": "markdown",
   "source": [
    "# E valuate classifier performance(roc and auc curve)"
   ],
   "metadata": {}
  },
  {
   "cell_type": "code",
   "execution_count": 7,
   "source": [
    "#for Logistic Regression Classifier\r\n",
    "\r\n",
    "#Calculating False Positive Rate,True Positive Rate and threshold\r\n",
    "fpr_logreg, tpr_logreg, _ = roc_curve(y_test, preds_logreg)\r\n",
    "roc_auc_logreg = auc(fpr_logreg, tpr_logreg)\r\n",
    "\r\n",
    "#import matplotlib.pyplot as plt\r\n",
    "plt.title('Receiver Operating Characteristic for Logistic Regression')\r\n",
    "plt.plot(fpr_logreg, tpr_logreg, 'b', label = 'AUC = %0.2f' % roc_auc_logreg)\r\n",
    "plt.legend(loc = 'lower right')\r\n",
    "plt.plot([0, 1], [0, 1],'r--')\r\n",
    "plt.xlim([0, 1])\r\n",
    "plt.ylim([0, 1])\r\n",
    "plt.ylabel('True Positive Rate')\r\n",
    "plt.xlabel('False Positive Rate')\r\n",
    "plt.show()"
   ],
   "outputs": [
    {
     "output_type": "display_data",
     "data": {
      "image/png": "[encoded data removed]",
      "text/plain": [
       "<Figure size 432x288 with 1 Axes>"
      ]
     },
     "metadata": {
      "needs_background": "light"
     }
    }
   ],
   "metadata": {}
  },
  {
   "cell_type": "markdown",
   "source": [
    "# Testing"
   ],
   "metadata": {}
  },
  {
   "cell_type": "code",
   "execution_count": 8,
   "source": [
    "# Load model\r\n",
    "logreg = pickle.load(open('logreg.sav','rb'))\r\n",
    "tf = pickle.load(open('vectorizer.sav','rb'))\r\n",
    "\r\n",
    "# Testing\r\n",
    "test_array = ['love','good','fine','bad','worst']\r\n",
    "test_func = lambda x: 'pos' if x==1 else 'neg'\r\n",
    "logRe = logreg.predict(tf.transform(test_array).toarray())\r\n",
    "\r\n",
    "for sentence,l in zip(test_array,logRe):\r\n",
    "    print(sentence,': Linear SVC=',test_func(l))\r\n"
   ],
   "outputs": [
    {
     "output_type": "stream",
     "name": "stdout",
     "text": [
      "love : Linear SVC= pos\n",
      "good : Linear SVC= pos\n",
      "fine : Linear SVC= pos\n",
      "bad : Linear SVC= neg\n",
      "worst : Linear SVC= neg\n"
     ]
    }
   ],
   "metadata": {}
  }
 ],
 "metadata": {
  "kernelspec": {
   "name": "python3",
   "display_name": "Python 3.8.5 64-bit ('rabin': virtualenv)"
  },
  "language_info": {
   "codemirror_mode": {
    "name": "ipython",
    "version": 3
   },
   "file_extension": ".py",
   "mimetype": "text/x-python",
   "name": "python",
   "nbconvert_exporter": "python",
   "pygments_lexer": "ipython3",
   "version": "3.8.5"
  },
  "interpreter": {
   "hash": "a456efd1d2e2bfa10bfdad488db5626e5f8bd233a0f11ae70ce0e7717a6a7d8d"
  }
 },
 "nbformat": 4,
 "nbformat_minor": 2
}